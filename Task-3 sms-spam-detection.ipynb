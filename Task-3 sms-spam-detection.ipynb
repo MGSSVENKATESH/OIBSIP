{
 "cells": [
  {
   "cell_type": "code",
   "execution_count": 1,
   "id": "f12cab33",
   "metadata": {
    "_cell_guid": "b1076dfc-b9ad-4769-8c92-a6c4dae69d19",
    "_uuid": "8f2839f25d086af736a60e9eeb907d3b93b6e0e5",
    "execution": {
     "iopub.execute_input": "2023-07-15T18:29:19.472345Z",
     "iopub.status.busy": "2023-07-15T18:29:19.471611Z",
     "iopub.status.idle": "2023-07-15T18:29:20.957191Z",
     "shell.execute_reply": "2023-07-15T18:29:20.956241Z"
    },
    "papermill": {
     "duration": 1.50143,
     "end_time": "2023-07-15T18:29:20.959951",
     "exception": false,
     "start_time": "2023-07-15T18:29:19.458521",
     "status": "completed"
    },
    "tags": []
   },
   "outputs": [
    {
     "name": "stderr",
     "output_type": "stream",
     "text": [
      "/opt/conda/lib/python3.10/site-packages/scipy/__init__.py:146: UserWarning: A NumPy version >=1.16.5 and <1.23.0 is required for this version of SciPy (detected version 1.23.5\n",
      "  warnings.warn(f\"A NumPy version >={np_minversion} and <{np_maxversion}\"\n"
     ]
    }
   ],
   "source": [
    "import numpy as np\n",
    "import pandas as pd \n",
    "import seaborn as sns\n",
    "import matplotlib.pyplot as plt"
   ]
  },
  {
   "cell_type": "code",
   "execution_count": 2,
   "id": "2bce392d",
   "metadata": {
    "execution": {
     "iopub.execute_input": "2023-07-15T18:29:20.983737Z",
     "iopub.status.busy": "2023-07-15T18:29:20.982700Z",
     "iopub.status.idle": "2023-07-15T18:29:21.032675Z",
     "shell.execute_reply": "2023-07-15T18:29:21.031548Z"
    },
    "papermill": {
     "duration": 0.064732,
     "end_time": "2023-07-15T18:29:21.035539",
     "exception": false,
     "start_time": "2023-07-15T18:29:20.970807",
     "status": "completed"
    },
    "tags": []
   },
   "outputs": [],
   "source": [
    "data = pd.read_csv('/kaggle/input/sms-spam-collection-dataset/spam.csv',encoding='ISO-8859-1')"
   ]
  },
  {
   "cell_type": "code",
   "execution_count": 3,
   "id": "26b2bae7",
   "metadata": {
    "execution": {
     "iopub.execute_input": "2023-07-15T18:29:21.059037Z",
     "iopub.status.busy": "2023-07-15T18:29:21.058215Z",
     "iopub.status.idle": "2023-07-15T18:29:21.082620Z",
     "shell.execute_reply": "2023-07-15T18:29:21.081627Z"
    },
    "papermill": {
     "duration": 0.038832,
     "end_time": "2023-07-15T18:29:21.085125",
     "exception": false,
     "start_time": "2023-07-15T18:29:21.046293",
     "status": "completed"
    },
    "tags": []
   },
   "outputs": [
    {
     "data": {
      "text/html": [
       "<div>\n",
       "<style scoped>\n",
       "    .dataframe tbody tr th:only-of-type {\n",
       "        vertical-align: middle;\n",
       "    }\n",
       "\n",
       "    .dataframe tbody tr th {\n",
       "        vertical-align: top;\n",
       "    }\n",
       "\n",
       "    .dataframe thead th {\n",
       "        text-align: right;\n",
       "    }\n",
       "</style>\n",
       "<table border=\"1\" class=\"dataframe\">\n",
       "  <thead>\n",
       "    <tr style=\"text-align: right;\">\n",
       "      <th></th>\n",
       "      <th>v1</th>\n",
       "      <th>v2</th>\n",
       "      <th>Unnamed: 2</th>\n",
       "      <th>Unnamed: 3</th>\n",
       "      <th>Unnamed: 4</th>\n",
       "    </tr>\n",
       "  </thead>\n",
       "  <tbody>\n",
       "    <tr>\n",
       "      <th>0</th>\n",
       "      <td>ham</td>\n",
       "      <td>Go until jurong point, crazy.. Available only ...</td>\n",
       "      <td>NaN</td>\n",
       "      <td>NaN</td>\n",
       "      <td>NaN</td>\n",
       "    </tr>\n",
       "    <tr>\n",
       "      <th>1</th>\n",
       "      <td>ham</td>\n",
       "      <td>Ok lar... Joking wif u oni...</td>\n",
       "      <td>NaN</td>\n",
       "      <td>NaN</td>\n",
       "      <td>NaN</td>\n",
       "    </tr>\n",
       "    <tr>\n",
       "      <th>2</th>\n",
       "      <td>spam</td>\n",
       "      <td>Free entry in 2 a wkly comp to win FA Cup fina...</td>\n",
       "      <td>NaN</td>\n",
       "      <td>NaN</td>\n",
       "      <td>NaN</td>\n",
       "    </tr>\n",
       "    <tr>\n",
       "      <th>3</th>\n",
       "      <td>ham</td>\n",
       "      <td>U dun say so early hor... U c already then say...</td>\n",
       "      <td>NaN</td>\n",
       "      <td>NaN</td>\n",
       "      <td>NaN</td>\n",
       "    </tr>\n",
       "    <tr>\n",
       "      <th>4</th>\n",
       "      <td>ham</td>\n",
       "      <td>Nah I don't think he goes to usf, he lives aro...</td>\n",
       "      <td>NaN</td>\n",
       "      <td>NaN</td>\n",
       "      <td>NaN</td>\n",
       "    </tr>\n",
       "  </tbody>\n",
       "</table>\n",
       "</div>"
      ],
      "text/plain": [
       "     v1                                                 v2 Unnamed: 2  \\\n",
       "0   ham  Go until jurong point, crazy.. Available only ...        NaN   \n",
       "1   ham                      Ok lar... Joking wif u oni...        NaN   \n",
       "2  spam  Free entry in 2 a wkly comp to win FA Cup fina...        NaN   \n",
       "3   ham  U dun say so early hor... U c already then say...        NaN   \n",
       "4   ham  Nah I don't think he goes to usf, he lives aro...        NaN   \n",
       "\n",
       "  Unnamed: 3 Unnamed: 4  \n",
       "0        NaN        NaN  \n",
       "1        NaN        NaN  \n",
       "2        NaN        NaN  \n",
       "3        NaN        NaN  \n",
       "4        NaN        NaN  "
      ]
     },
     "execution_count": 3,
     "metadata": {},
     "output_type": "execute_result"
    }
   ],
   "source": [
    "data.head()"
   ]
  },
  {
   "cell_type": "code",
   "execution_count": 4,
   "id": "6193036d",
   "metadata": {
    "execution": {
     "iopub.execute_input": "2023-07-15T18:29:21.108659Z",
     "iopub.status.busy": "2023-07-15T18:29:21.108240Z",
     "iopub.status.idle": "2023-07-15T18:29:21.121025Z",
     "shell.execute_reply": "2023-07-15T18:29:21.119854Z"
    },
    "papermill": {
     "duration": 0.027557,
     "end_time": "2023-07-15T18:29:21.123695",
     "exception": false,
     "start_time": "2023-07-15T18:29:21.096138",
     "status": "completed"
    },
    "tags": []
   },
   "outputs": [
    {
     "data": {
      "text/html": [
       "<div>\n",
       "<style scoped>\n",
       "    .dataframe tbody tr th:only-of-type {\n",
       "        vertical-align: middle;\n",
       "    }\n",
       "\n",
       "    .dataframe tbody tr th {\n",
       "        vertical-align: top;\n",
       "    }\n",
       "\n",
       "    .dataframe thead th {\n",
       "        text-align: right;\n",
       "    }\n",
       "</style>\n",
       "<table border=\"1\" class=\"dataframe\">\n",
       "  <thead>\n",
       "    <tr style=\"text-align: right;\">\n",
       "      <th></th>\n",
       "      <th>v1</th>\n",
       "      <th>v2</th>\n",
       "      <th>Unnamed: 2</th>\n",
       "      <th>Unnamed: 3</th>\n",
       "      <th>Unnamed: 4</th>\n",
       "    </tr>\n",
       "  </thead>\n",
       "  <tbody>\n",
       "    <tr>\n",
       "      <th>5567</th>\n",
       "      <td>spam</td>\n",
       "      <td>This is the 2nd time we have tried 2 contact u...</td>\n",
       "      <td>NaN</td>\n",
       "      <td>NaN</td>\n",
       "      <td>NaN</td>\n",
       "    </tr>\n",
       "    <tr>\n",
       "      <th>5568</th>\n",
       "      <td>ham</td>\n",
       "      <td>Will Ì_ b going to esplanade fr home?</td>\n",
       "      <td>NaN</td>\n",
       "      <td>NaN</td>\n",
       "      <td>NaN</td>\n",
       "    </tr>\n",
       "    <tr>\n",
       "      <th>5569</th>\n",
       "      <td>ham</td>\n",
       "      <td>Pity, * was in mood for that. So...any other s...</td>\n",
       "      <td>NaN</td>\n",
       "      <td>NaN</td>\n",
       "      <td>NaN</td>\n",
       "    </tr>\n",
       "    <tr>\n",
       "      <th>5570</th>\n",
       "      <td>ham</td>\n",
       "      <td>The guy did some bitching but I acted like i'd...</td>\n",
       "      <td>NaN</td>\n",
       "      <td>NaN</td>\n",
       "      <td>NaN</td>\n",
       "    </tr>\n",
       "    <tr>\n",
       "      <th>5571</th>\n",
       "      <td>ham</td>\n",
       "      <td>Rofl. Its true to its name</td>\n",
       "      <td>NaN</td>\n",
       "      <td>NaN</td>\n",
       "      <td>NaN</td>\n",
       "    </tr>\n",
       "  </tbody>\n",
       "</table>\n",
       "</div>"
      ],
      "text/plain": [
       "        v1                                                 v2 Unnamed: 2  \\\n",
       "5567  spam  This is the 2nd time we have tried 2 contact u...        NaN   \n",
       "5568   ham              Will Ì_ b going to esplanade fr home?        NaN   \n",
       "5569   ham  Pity, * was in mood for that. So...any other s...        NaN   \n",
       "5570   ham  The guy did some bitching but I acted like i'd...        NaN   \n",
       "5571   ham                         Rofl. Its true to its name        NaN   \n",
       "\n",
       "     Unnamed: 3 Unnamed: 4  \n",
       "5567        NaN        NaN  \n",
       "5568        NaN        NaN  \n",
       "5569        NaN        NaN  \n",
       "5570        NaN        NaN  \n",
       "5571        NaN        NaN  "
      ]
     },
     "execution_count": 4,
     "metadata": {},
     "output_type": "execute_result"
    }
   ],
   "source": [
    "data.tail()"
   ]
  },
  {
   "cell_type": "code",
   "execution_count": 5,
   "id": "0c6525d0",
   "metadata": {
    "execution": {
     "iopub.execute_input": "2023-07-15T18:29:21.149443Z",
     "iopub.status.busy": "2023-07-15T18:29:21.148747Z",
     "iopub.status.idle": "2023-07-15T18:29:21.155486Z",
     "shell.execute_reply": "2023-07-15T18:29:21.154434Z"
    },
    "papermill": {
     "duration": 0.021355,
     "end_time": "2023-07-15T18:29:21.157619",
     "exception": false,
     "start_time": "2023-07-15T18:29:21.136264",
     "status": "completed"
    },
    "tags": []
   },
   "outputs": [
    {
     "data": {
      "text/plain": [
       "(5572, 5)"
      ]
     },
     "execution_count": 5,
     "metadata": {},
     "output_type": "execute_result"
    }
   ],
   "source": [
    "data.shape"
   ]
  },
  {
   "cell_type": "code",
   "execution_count": 6,
   "id": "e7ce1ff7",
   "metadata": {
    "execution": {
     "iopub.execute_input": "2023-07-15T18:29:21.181938Z",
     "iopub.status.busy": "2023-07-15T18:29:21.181307Z",
     "iopub.status.idle": "2023-07-15T18:29:21.189987Z",
     "shell.execute_reply": "2023-07-15T18:29:21.188999Z"
    },
    "papermill": {
     "duration": 0.023377,
     "end_time": "2023-07-15T18:29:21.192136",
     "exception": false,
     "start_time": "2023-07-15T18:29:21.168759",
     "status": "completed"
    },
    "tags": []
   },
   "outputs": [
    {
     "data": {
      "text/plain": [
       "27860"
      ]
     },
     "execution_count": 6,
     "metadata": {},
     "output_type": "execute_result"
    }
   ],
   "source": [
    "data.size"
   ]
  },
  {
   "cell_type": "code",
   "execution_count": 7,
   "id": "d4aafd82",
   "metadata": {
    "execution": {
     "iopub.execute_input": "2023-07-15T18:29:21.217256Z",
     "iopub.status.busy": "2023-07-15T18:29:21.216492Z",
     "iopub.status.idle": "2023-07-15T18:29:21.252486Z",
     "shell.execute_reply": "2023-07-15T18:29:21.251010Z"
    },
    "papermill": {
     "duration": 0.051319,
     "end_time": "2023-07-15T18:29:21.254933",
     "exception": false,
     "start_time": "2023-07-15T18:29:21.203614",
     "status": "completed"
    },
    "tags": []
   },
   "outputs": [
    {
     "name": "stdout",
     "output_type": "stream",
     "text": [
      "<class 'pandas.core.frame.DataFrame'>\n",
      "RangeIndex: 5572 entries, 0 to 5571\n",
      "Data columns (total 5 columns):\n",
      " #   Column      Non-Null Count  Dtype \n",
      "---  ------      --------------  ----- \n",
      " 0   v1          5572 non-null   object\n",
      " 1   v2          5572 non-null   object\n",
      " 2   Unnamed: 2  50 non-null     object\n",
      " 3   Unnamed: 3  12 non-null     object\n",
      " 4   Unnamed: 4  6 non-null      object\n",
      "dtypes: object(5)\n",
      "memory usage: 217.8+ KB\n"
     ]
    }
   ],
   "source": [
    "data.info()"
   ]
  },
  {
   "cell_type": "code",
   "execution_count": 8,
   "id": "6a6dc3c6",
   "metadata": {
    "execution": {
     "iopub.execute_input": "2023-07-15T18:29:21.280519Z",
     "iopub.status.busy": "2023-07-15T18:29:21.279809Z",
     "iopub.status.idle": "2023-07-15T18:29:21.306081Z",
     "shell.execute_reply": "2023-07-15T18:29:21.304808Z"
    },
    "papermill": {
     "duration": 0.041708,
     "end_time": "2023-07-15T18:29:21.308451",
     "exception": false,
     "start_time": "2023-07-15T18:29:21.266743",
     "status": "completed"
    },
    "tags": []
   },
   "outputs": [
    {
     "data": {
      "text/html": [
       "<div>\n",
       "<style scoped>\n",
       "    .dataframe tbody tr th:only-of-type {\n",
       "        vertical-align: middle;\n",
       "    }\n",
       "\n",
       "    .dataframe tbody tr th {\n",
       "        vertical-align: top;\n",
       "    }\n",
       "\n",
       "    .dataframe thead th {\n",
       "        text-align: right;\n",
       "    }\n",
       "</style>\n",
       "<table border=\"1\" class=\"dataframe\">\n",
       "  <thead>\n",
       "    <tr style=\"text-align: right;\">\n",
       "      <th></th>\n",
       "      <th>v1</th>\n",
       "      <th>v2</th>\n",
       "      <th>Unnamed: 2</th>\n",
       "      <th>Unnamed: 3</th>\n",
       "      <th>Unnamed: 4</th>\n",
       "    </tr>\n",
       "  </thead>\n",
       "  <tbody>\n",
       "    <tr>\n",
       "      <th>count</th>\n",
       "      <td>5572</td>\n",
       "      <td>5572</td>\n",
       "      <td>50</td>\n",
       "      <td>12</td>\n",
       "      <td>6</td>\n",
       "    </tr>\n",
       "    <tr>\n",
       "      <th>unique</th>\n",
       "      <td>2</td>\n",
       "      <td>5169</td>\n",
       "      <td>43</td>\n",
       "      <td>10</td>\n",
       "      <td>5</td>\n",
       "    </tr>\n",
       "    <tr>\n",
       "      <th>top</th>\n",
       "      <td>ham</td>\n",
       "      <td>Sorry, I'll call later</td>\n",
       "      <td>bt not his girlfrnd... G o o d n i g h t . . .@\"</td>\n",
       "      <td>MK17 92H. 450Ppw 16\"</td>\n",
       "      <td>GNT:-)\"</td>\n",
       "    </tr>\n",
       "    <tr>\n",
       "      <th>freq</th>\n",
       "      <td>4825</td>\n",
       "      <td>30</td>\n",
       "      <td>3</td>\n",
       "      <td>2</td>\n",
       "      <td>2</td>\n",
       "    </tr>\n",
       "  </tbody>\n",
       "</table>\n",
       "</div>"
      ],
      "text/plain": [
       "          v1                      v2  \\\n",
       "count   5572                    5572   \n",
       "unique     2                    5169   \n",
       "top      ham  Sorry, I'll call later   \n",
       "freq    4825                      30   \n",
       "\n",
       "                                               Unnamed: 2  \\\n",
       "count                                                  50   \n",
       "unique                                                 43   \n",
       "top      bt not his girlfrnd... G o o d n i g h t . . .@\"   \n",
       "freq                                                    3   \n",
       "\n",
       "                   Unnamed: 3 Unnamed: 4  \n",
       "count                      12          6  \n",
       "unique                     10          5  \n",
       "top      MK17 92H. 450Ppw 16\"    GNT:-)\"  \n",
       "freq                        2          2  "
      ]
     },
     "execution_count": 8,
     "metadata": {},
     "output_type": "execute_result"
    }
   ],
   "source": [
    "data.describe()"
   ]
  },
  {
   "cell_type": "code",
   "execution_count": 9,
   "id": "c3a5c3cc",
   "metadata": {
    "execution": {
     "iopub.execute_input": "2023-07-15T18:29:21.334031Z",
     "iopub.status.busy": "2023-07-15T18:29:21.333611Z",
     "iopub.status.idle": "2023-07-15T18:29:21.340278Z",
     "shell.execute_reply": "2023-07-15T18:29:21.339131Z"
    },
    "papermill": {
     "duration": 0.022195,
     "end_time": "2023-07-15T18:29:21.342593",
     "exception": false,
     "start_time": "2023-07-15T18:29:21.320398",
     "status": "completed"
    },
    "tags": []
   },
   "outputs": [],
   "source": [
    "data.drop(columns = ['Unnamed: 2','Unnamed: 3','Unnamed: 4'], inplace = True)"
   ]
  },
  {
   "cell_type": "code",
   "execution_count": 10,
   "id": "33a7d231",
   "metadata": {
    "execution": {
     "iopub.execute_input": "2023-07-15T18:29:21.370075Z",
     "iopub.status.busy": "2023-07-15T18:29:21.369637Z",
     "iopub.status.idle": "2023-07-15T18:29:21.381127Z",
     "shell.execute_reply": "2023-07-15T18:29:21.380030Z"
    },
    "papermill": {
     "duration": 0.027799,
     "end_time": "2023-07-15T18:29:21.383302",
     "exception": false,
     "start_time": "2023-07-15T18:29:21.355503",
     "status": "completed"
    },
    "tags": []
   },
   "outputs": [
    {
     "data": {
      "text/html": [
       "<div>\n",
       "<style scoped>\n",
       "    .dataframe tbody tr th:only-of-type {\n",
       "        vertical-align: middle;\n",
       "    }\n",
       "\n",
       "    .dataframe tbody tr th {\n",
       "        vertical-align: top;\n",
       "    }\n",
       "\n",
       "    .dataframe thead th {\n",
       "        text-align: right;\n",
       "    }\n",
       "</style>\n",
       "<table border=\"1\" class=\"dataframe\">\n",
       "  <thead>\n",
       "    <tr style=\"text-align: right;\">\n",
       "      <th></th>\n",
       "      <th>v1</th>\n",
       "      <th>v2</th>\n",
       "    </tr>\n",
       "  </thead>\n",
       "  <tbody>\n",
       "    <tr>\n",
       "      <th>0</th>\n",
       "      <td>ham</td>\n",
       "      <td>Go until jurong point, crazy.. Available only ...</td>\n",
       "    </tr>\n",
       "    <tr>\n",
       "      <th>1</th>\n",
       "      <td>ham</td>\n",
       "      <td>Ok lar... Joking wif u oni...</td>\n",
       "    </tr>\n",
       "    <tr>\n",
       "      <th>2</th>\n",
       "      <td>spam</td>\n",
       "      <td>Free entry in 2 a wkly comp to win FA Cup fina...</td>\n",
       "    </tr>\n",
       "    <tr>\n",
       "      <th>3</th>\n",
       "      <td>ham</td>\n",
       "      <td>U dun say so early hor... U c already then say...</td>\n",
       "    </tr>\n",
       "    <tr>\n",
       "      <th>4</th>\n",
       "      <td>ham</td>\n",
       "      <td>Nah I don't think he goes to usf, he lives aro...</td>\n",
       "    </tr>\n",
       "  </tbody>\n",
       "</table>\n",
       "</div>"
      ],
      "text/plain": [
       "     v1                                                 v2\n",
       "0   ham  Go until jurong point, crazy.. Available only ...\n",
       "1   ham                      Ok lar... Joking wif u oni...\n",
       "2  spam  Free entry in 2 a wkly comp to win FA Cup fina...\n",
       "3   ham  U dun say so early hor... U c already then say...\n",
       "4   ham  Nah I don't think he goes to usf, he lives aro..."
      ]
     },
     "execution_count": 10,
     "metadata": {},
     "output_type": "execute_result"
    }
   ],
   "source": [
    "data.head()"
   ]
  },
  {
   "cell_type": "code",
   "execution_count": 11,
   "id": "96a9c66c",
   "metadata": {
    "execution": {
     "iopub.execute_input": "2023-07-15T18:29:21.409153Z",
     "iopub.status.busy": "2023-07-15T18:29:21.408743Z",
     "iopub.status.idle": "2023-07-15T18:29:21.415620Z",
     "shell.execute_reply": "2023-07-15T18:29:21.414302Z"
    },
    "papermill": {
     "duration": 0.022596,
     "end_time": "2023-07-15T18:29:21.417960",
     "exception": false,
     "start_time": "2023-07-15T18:29:21.395364",
     "status": "completed"
    },
    "tags": []
   },
   "outputs": [],
   "source": [
    "data = data.rename(columns = {'v1': 'Target', 'v2':'Message'})"
   ]
  },
  {
   "cell_type": "code",
   "execution_count": 12,
   "id": "d6ff5ac0",
   "metadata": {
    "execution": {
     "iopub.execute_input": "2023-07-15T18:29:21.443896Z",
     "iopub.status.busy": "2023-07-15T18:29:21.443472Z",
     "iopub.status.idle": "2023-07-15T18:29:21.456542Z",
     "shell.execute_reply": "2023-07-15T18:29:21.455403Z"
    },
    "papermill": {
     "duration": 0.028848,
     "end_time": "2023-07-15T18:29:21.458851",
     "exception": false,
     "start_time": "2023-07-15T18:29:21.430003",
     "status": "completed"
    },
    "tags": []
   },
   "outputs": [
    {
     "data": {
      "text/plain": [
       "Target     0\n",
       "Message    0\n",
       "dtype: int64"
      ]
     },
     "execution_count": 12,
     "metadata": {},
     "output_type": "execute_result"
    }
   ],
   "source": [
    "data.isnull().sum()"
   ]
  },
  {
   "cell_type": "code",
   "execution_count": 13,
   "id": "c5b938f2",
   "metadata": {
    "execution": {
     "iopub.execute_input": "2023-07-15T18:29:21.484935Z",
     "iopub.status.busy": "2023-07-15T18:29:21.484568Z",
     "iopub.status.idle": "2023-07-15T18:29:21.497090Z",
     "shell.execute_reply": "2023-07-15T18:29:21.496054Z"
    },
    "papermill": {
     "duration": 0.028482,
     "end_time": "2023-07-15T18:29:21.499460",
     "exception": false,
     "start_time": "2023-07-15T18:29:21.470978",
     "status": "completed"
    },
    "tags": []
   },
   "outputs": [
    {
     "data": {
      "text/plain": [
       "403"
      ]
     },
     "execution_count": 13,
     "metadata": {},
     "output_type": "execute_result"
    }
   ],
   "source": [
    "data.duplicated().sum()"
   ]
  },
  {
   "cell_type": "code",
   "execution_count": 14,
   "id": "f1ac90bc",
   "metadata": {
    "execution": {
     "iopub.execute_input": "2023-07-15T18:29:21.525687Z",
     "iopub.status.busy": "2023-07-15T18:29:21.525299Z",
     "iopub.status.idle": "2023-07-15T18:29:21.533953Z",
     "shell.execute_reply": "2023-07-15T18:29:21.533063Z"
    },
    "papermill": {
     "duration": 0.024406,
     "end_time": "2023-07-15T18:29:21.536275",
     "exception": false,
     "start_time": "2023-07-15T18:29:21.511869",
     "status": "completed"
    },
    "tags": []
   },
   "outputs": [],
   "source": [
    "data.drop_duplicates(keep='first', inplace =True)"
   ]
  },
  {
   "cell_type": "code",
   "execution_count": 15,
   "id": "b86a1db2",
   "metadata": {
    "execution": {
     "iopub.execute_input": "2023-07-15T18:29:21.563400Z",
     "iopub.status.busy": "2023-07-15T18:29:21.562546Z",
     "iopub.status.idle": "2023-07-15T18:29:21.572118Z",
     "shell.execute_reply": "2023-07-15T18:29:21.571374Z"
    },
    "papermill": {
     "duration": 0.025476,
     "end_time": "2023-07-15T18:29:21.574059",
     "exception": false,
     "start_time": "2023-07-15T18:29:21.548583",
     "status": "completed"
    },
    "tags": []
   },
   "outputs": [
    {
     "data": {
      "text/plain": [
       "0"
      ]
     },
     "execution_count": 15,
     "metadata": {},
     "output_type": "execute_result"
    }
   ],
   "source": [
    "data.duplicated().sum()"
   ]
  },
  {
   "cell_type": "code",
   "execution_count": 16,
   "id": "51a0009d",
   "metadata": {
    "execution": {
     "iopub.execute_input": "2023-07-15T18:29:21.600771Z",
     "iopub.status.busy": "2023-07-15T18:29:21.600018Z",
     "iopub.status.idle": "2023-07-15T18:29:21.606560Z",
     "shell.execute_reply": "2023-07-15T18:29:21.605725Z"
    },
    "papermill": {
     "duration": 0.022195,
     "end_time": "2023-07-15T18:29:21.608563",
     "exception": false,
     "start_time": "2023-07-15T18:29:21.586368",
     "status": "completed"
    },
    "tags": []
   },
   "outputs": [
    {
     "data": {
      "text/plain": [
       "10338"
      ]
     },
     "execution_count": 16,
     "metadata": {},
     "output_type": "execute_result"
    }
   ],
   "source": [
    "data.size"
   ]
  },
  {
   "cell_type": "code",
   "execution_count": 17,
   "id": "d370875d",
   "metadata": {
    "execution": {
     "iopub.execute_input": "2023-07-15T18:29:21.636052Z",
     "iopub.status.busy": "2023-07-15T18:29:21.635149Z",
     "iopub.status.idle": "2023-07-15T18:29:21.806682Z",
     "shell.execute_reply": "2023-07-15T18:29:21.805345Z"
    },
    "papermill": {
     "duration": 0.1883,
     "end_time": "2023-07-15T18:29:21.809183",
     "exception": false,
     "start_time": "2023-07-15T18:29:21.620883",
     "status": "completed"
    },
    "tags": []
   },
   "outputs": [
    {
     "data": {
      "text/plain": [
       "0       0\n",
       "1       0\n",
       "2       1\n",
       "3       0\n",
       "4       0\n",
       "       ..\n",
       "5567    1\n",
       "5568    0\n",
       "5569    0\n",
       "5570    0\n",
       "5571    0\n",
       "Name: Target, Length: 5169, dtype: int64"
      ]
     },
     "execution_count": 17,
     "metadata": {},
     "output_type": "execute_result"
    }
   ],
   "source": [
    "from sklearn.preprocessing import LabelEncoder\n",
    "encoder= LabelEncoder()\n",
    "data['Target']=encoder.fit_transform(data['Target'])\n",
    "data['Target']"
   ]
  },
  {
   "cell_type": "code",
   "execution_count": 18,
   "id": "a76381f0",
   "metadata": {
    "execution": {
     "iopub.execute_input": "2023-07-15T18:29:21.837522Z",
     "iopub.status.busy": "2023-07-15T18:29:21.836395Z",
     "iopub.status.idle": "2023-07-15T18:29:21.847121Z",
     "shell.execute_reply": "2023-07-15T18:29:21.846053Z"
    },
    "papermill": {
     "duration": 0.027238,
     "end_time": "2023-07-15T18:29:21.849298",
     "exception": false,
     "start_time": "2023-07-15T18:29:21.822060",
     "status": "completed"
    },
    "tags": []
   },
   "outputs": [
    {
     "data": {
      "text/html": [
       "<div>\n",
       "<style scoped>\n",
       "    .dataframe tbody tr th:only-of-type {\n",
       "        vertical-align: middle;\n",
       "    }\n",
       "\n",
       "    .dataframe tbody tr th {\n",
       "        vertical-align: top;\n",
       "    }\n",
       "\n",
       "    .dataframe thead th {\n",
       "        text-align: right;\n",
       "    }\n",
       "</style>\n",
       "<table border=\"1\" class=\"dataframe\">\n",
       "  <thead>\n",
       "    <tr style=\"text-align: right;\">\n",
       "      <th></th>\n",
       "      <th>Target</th>\n",
       "      <th>Message</th>\n",
       "    </tr>\n",
       "  </thead>\n",
       "  <tbody>\n",
       "    <tr>\n",
       "      <th>0</th>\n",
       "      <td>0</td>\n",
       "      <td>Go until jurong point, crazy.. Available only ...</td>\n",
       "    </tr>\n",
       "    <tr>\n",
       "      <th>1</th>\n",
       "      <td>0</td>\n",
       "      <td>Ok lar... Joking wif u oni...</td>\n",
       "    </tr>\n",
       "    <tr>\n",
       "      <th>2</th>\n",
       "      <td>1</td>\n",
       "      <td>Free entry in 2 a wkly comp to win FA Cup fina...</td>\n",
       "    </tr>\n",
       "    <tr>\n",
       "      <th>3</th>\n",
       "      <td>0</td>\n",
       "      <td>U dun say so early hor... U c already then say...</td>\n",
       "    </tr>\n",
       "    <tr>\n",
       "      <th>4</th>\n",
       "      <td>0</td>\n",
       "      <td>Nah I don't think he goes to usf, he lives aro...</td>\n",
       "    </tr>\n",
       "  </tbody>\n",
       "</table>\n",
       "</div>"
      ],
      "text/plain": [
       "   Target                                            Message\n",
       "0       0  Go until jurong point, crazy.. Available only ...\n",
       "1       0                      Ok lar... Joking wif u oni...\n",
       "2       1  Free entry in 2 a wkly comp to win FA Cup fina...\n",
       "3       0  U dun say so early hor... U c already then say...\n",
       "4       0  Nah I don't think he goes to usf, he lives aro..."
      ]
     },
     "execution_count": 18,
     "metadata": {},
     "output_type": "execute_result"
    }
   ],
   "source": [
    "data.head()"
   ]
  },
  {
   "cell_type": "code",
   "execution_count": 19,
   "id": "edc722e3",
   "metadata": {
    "execution": {
     "iopub.execute_input": "2023-07-15T18:29:21.876910Z",
     "iopub.status.busy": "2023-07-15T18:29:21.876300Z",
     "iopub.status.idle": "2023-07-15T18:29:22.045560Z",
     "shell.execute_reply": "2023-07-15T18:29:22.043970Z"
    },
    "papermill": {
     "duration": 0.187562,
     "end_time": "2023-07-15T18:29:22.049665",
     "exception": false,
     "start_time": "2023-07-15T18:29:21.862103",
     "status": "completed"
    },
    "tags": []
   },
   "outputs": [
    {
     "data": {
      "image/png": "[encoded data removed]",
      "text/plain": [
       "<Figure size 640x480 with 1 Axes>"
      ]
     },
     "metadata": {},
     "output_type": "display_data"
    }
   ],
   "source": [
    "plt.pie(data['Target'].value_counts(), labels= ['ham','spam'], autopct = \"%0.2f\")\n",
    "plt.show()"
   ]
  },
  {
   "cell_type": "code",
   "execution_count": 20,
   "id": "b757eb1b",
   "metadata": {
    "execution": {
     "iopub.execute_input": "2023-07-15T18:29:22.107906Z",
     "iopub.status.busy": "2023-07-15T18:29:22.107118Z",
     "iopub.status.idle": "2023-07-15T18:29:22.111783Z",
     "shell.execute_reply": "2023-07-15T18:29:22.110925Z"
    },
    "papermill": {
     "duration": 0.035917,
     "end_time": "2023-07-15T18:29:22.113851",
     "exception": false,
     "start_time": "2023-07-15T18:29:22.077934",
     "status": "completed"
    },
    "tags": []
   },
   "outputs": [],
   "source": [
    "x = data['Message']"
   ]
  },
  {
   "cell_type": "code",
   "execution_count": 21,
   "id": "a467850d",
   "metadata": {
    "execution": {
     "iopub.execute_input": "2023-07-15T18:29:22.142258Z",
     "iopub.status.busy": "2023-07-15T18:29:22.141538Z",
     "iopub.status.idle": "2023-07-15T18:29:22.148495Z",
     "shell.execute_reply": "2023-07-15T18:29:22.146980Z"
    },
    "papermill": {
     "duration": 0.023676,
     "end_time": "2023-07-15T18:29:22.150617",
     "exception": false,
     "start_time": "2023-07-15T18:29:22.126941",
     "status": "completed"
    },
    "tags": []
   },
   "outputs": [
    {
     "name": "stdout",
     "output_type": "stream",
     "text": [
      "0       Go until jurong point, crazy.. Available only ...\n",
      "1                           Ok lar... Joking wif u oni...\n",
      "2       Free entry in 2 a wkly comp to win FA Cup fina...\n",
      "3       U dun say so early hor... U c already then say...\n",
      "4       Nah I don't think he goes to usf, he lives aro...\n",
      "                              ...                        \n",
      "5567    This is the 2nd time we have tried 2 contact u...\n",
      "5568                Will Ì_ b going to esplanade fr home?\n",
      "5569    Pity, * was in mood for that. So...any other s...\n",
      "5570    The guy did some bitching but I acted like i'd...\n",
      "5571                           Rofl. Its true to its name\n",
      "Name: Message, Length: 5169, dtype: object\n"
     ]
    }
   ],
   "source": [
    "print(x)"
   ]
  },
  {
   "cell_type": "code",
   "execution_count": 22,
   "id": "f96b406a",
   "metadata": {
    "execution": {
     "iopub.execute_input": "2023-07-15T18:29:22.179582Z",
     "iopub.status.busy": "2023-07-15T18:29:22.178806Z",
     "iopub.status.idle": "2023-07-15T18:29:22.183108Z",
     "shell.execute_reply": "2023-07-15T18:29:22.182325Z"
    },
    "papermill": {
     "duration": 0.021271,
     "end_time": "2023-07-15T18:29:22.185187",
     "exception": false,
     "start_time": "2023-07-15T18:29:22.163916",
     "status": "completed"
    },
    "tags": []
   },
   "outputs": [],
   "source": [
    "y = data['Target']"
   ]
  },
  {
   "cell_type": "code",
   "execution_count": 23,
   "id": "0fc24029",
   "metadata": {
    "execution": {
     "iopub.execute_input": "2023-07-15T18:29:22.214465Z",
     "iopub.status.busy": "2023-07-15T18:29:22.213805Z",
     "iopub.status.idle": "2023-07-15T18:29:22.220068Z",
     "shell.execute_reply": "2023-07-15T18:29:22.218817Z"
    },
    "papermill": {
     "duration": 0.023424,
     "end_time": "2023-07-15T18:29:22.222096",
     "exception": false,
     "start_time": "2023-07-15T18:29:22.198672",
     "status": "completed"
    },
    "tags": []
   },
   "outputs": [
    {
     "name": "stdout",
     "output_type": "stream",
     "text": [
      "0       0\n",
      "1       0\n",
      "2       1\n",
      "3       0\n",
      "4       0\n",
      "       ..\n",
      "5567    1\n",
      "5568    0\n",
      "5569    0\n",
      "5570    0\n",
      "5571    0\n",
      "Name: Target, Length: 5169, dtype: int64\n"
     ]
    }
   ],
   "source": [
    "print(y)"
   ]
  },
  {
   "cell_type": "code",
   "execution_count": 24,
   "id": "e486a1bf",
   "metadata": {
    "execution": {
     "iopub.execute_input": "2023-07-15T18:29:22.250791Z",
     "iopub.status.busy": "2023-07-15T18:29:22.250385Z",
     "iopub.status.idle": "2023-07-15T18:29:22.352707Z",
     "shell.execute_reply": "2023-07-15T18:29:22.351556Z"
    },
    "papermill": {
     "duration": 0.119778,
     "end_time": "2023-07-15T18:29:22.355311",
     "exception": false,
     "start_time": "2023-07-15T18:29:22.235533",
     "status": "completed"
    },
    "tags": []
   },
   "outputs": [],
   "source": [
    "from sklearn.model_selection import train_test_split\n",
    "x_train,x_test,y_train,y_test=train_test_split(x,y,test_size= 0.2, random_state = 3)"
   ]
  },
  {
   "cell_type": "code",
   "execution_count": 25,
   "id": "f72a5a36",
   "metadata": {
    "execution": {
     "iopub.execute_input": "2023-07-15T18:29:22.385606Z",
     "iopub.status.busy": "2023-07-15T18:29:22.385186Z",
     "iopub.status.idle": "2023-07-15T18:29:22.486861Z",
     "shell.execute_reply": "2023-07-15T18:29:22.485908Z"
    },
    "papermill": {
     "duration": 0.11909,
     "end_time": "2023-07-15T18:29:22.489585",
     "exception": false,
     "start_time": "2023-07-15T18:29:22.370495",
     "status": "completed"
    },
    "tags": []
   },
   "outputs": [],
   "source": [
    "from sklearn.feature_extraction.text import CountVectorizer\n",
    "from sklearn import svm"
   ]
  },
  {
   "cell_type": "code",
   "execution_count": 26,
   "id": "16e86232",
   "metadata": {
    "execution": {
     "iopub.execute_input": "2023-07-15T18:29:22.517106Z",
     "iopub.status.busy": "2023-07-15T18:29:22.516738Z",
     "iopub.status.idle": "2023-07-15T18:29:22.521655Z",
     "shell.execute_reply": "2023-07-15T18:29:22.520437Z"
    },
    "papermill": {
     "duration": 0.021149,
     "end_time": "2023-07-15T18:29:22.523910",
     "exception": false,
     "start_time": "2023-07-15T18:29:22.502761",
     "status": "completed"
    },
    "tags": []
   },
   "outputs": [],
   "source": [
    "cv = CountVectorizer()"
   ]
  },
  {
   "cell_type": "code",
   "execution_count": 27,
   "id": "8a91162a",
   "metadata": {
    "execution": {
     "iopub.execute_input": "2023-07-15T18:29:22.552404Z",
     "iopub.status.busy": "2023-07-15T18:29:22.552006Z",
     "iopub.status.idle": "2023-07-15T18:29:22.701800Z",
     "shell.execute_reply": "2023-07-15T18:29:22.700571Z"
    },
    "papermill": {
     "duration": 0.168034,
     "end_time": "2023-07-15T18:29:22.705217",
     "exception": false,
     "start_time": "2023-07-15T18:29:22.537183",
     "status": "completed"
    },
    "tags": []
   },
   "outputs": [],
   "source": [
    "x_train_cv = cv.fit_transform(x_train)\n",
    "x_test_cv = cv.transform(x_test)"
   ]
  },
  {
   "cell_type": "code",
   "execution_count": 28,
   "id": "32a5638b",
   "metadata": {
    "execution": {
     "iopub.execute_input": "2023-07-15T18:29:22.733764Z",
     "iopub.status.busy": "2023-07-15T18:29:22.733335Z",
     "iopub.status.idle": "2023-07-15T18:29:22.741204Z",
     "shell.execute_reply": "2023-07-15T18:29:22.740193Z"
    },
    "papermill": {
     "duration": 0.024752,
     "end_time": "2023-07-15T18:29:22.743413",
     "exception": false,
     "start_time": "2023-07-15T18:29:22.718661",
     "status": "completed"
    },
    "tags": []
   },
   "outputs": [
    {
     "name": "stdout",
     "output_type": "stream",
     "text": [
      "  (0, 1879)\t1\n",
      "  (0, 1170)\t1\n",
      "  (0, 6840)\t1\n",
      "  (0, 6610)\t1\n",
      "  (0, 2779)\t1\n",
      "  (1, 1939)\t1\n",
      "  (1, 4467)\t1\n",
      "  (1, 453)\t1\n",
      "  (1, 7176)\t1\n",
      "  (1, 7594)\t1\n",
      "  (1, 1577)\t1\n",
      "  (1, 203)\t1\n",
      "  (1, 4768)\t1\n",
      "  (1, 7175)\t1\n",
      "  (1, 7390)\t1\n",
      "  (1, 7590)\t1\n",
      "  (1, 4309)\t1\n",
      "  (1, 5157)\t1\n",
      "  (1, 3732)\t1\n",
      "  (1, 3015)\t1\n",
      "  (1, 2333)\t1\n",
      "  (1, 5210)\t1\n",
      "  (1, 4577)\t1\n",
      "  (1, 4731)\t1\n",
      "  (1, 5615)\t1\n",
      "  :\t:\n",
      "  (4134, 3290)\t2\n",
      "  (4134, 4817)\t1\n",
      "  (4134, 1546)\t1\n",
      "  (4134, 4195)\t1\n",
      "  (4134, 891)\t1\n",
      "  (4134, 1092)\t1\n",
      "  (4134, 1261)\t1\n",
      "  (4134, 7302)\t1\n",
      "  (4134, 6595)\t1\n",
      "  (4134, 1624)\t1\n",
      "  (4134, 1977)\t1\n",
      "  (4134, 7438)\t1\n",
      "  (4134, 6189)\t1\n",
      "  (4134, 6815)\t1\n",
      "  (4134, 2357)\t1\n",
      "  (4134, 4093)\t1\n",
      "  (4134, 6583)\t1\n",
      "  (4134, 5934)\t1\n",
      "  (4134, 1661)\t1\n",
      "  (4134, 5153)\t1\n",
      "  (4134, 6292)\t1\n",
      "  (4134, 3707)\t1\n",
      "  (4134, 6172)\t1\n",
      "  (4134, 3624)\t1\n",
      "  (4134, 4785)\t1\n"
     ]
    }
   ],
   "source": [
    "print(x_train_cv)"
   ]
  },
  {
   "cell_type": "code",
   "execution_count": 29,
   "id": "91d15e56",
   "metadata": {
    "execution": {
     "iopub.execute_input": "2023-07-15T18:29:22.772179Z",
     "iopub.status.busy": "2023-07-15T18:29:22.771447Z",
     "iopub.status.idle": "2023-07-15T18:29:22.776099Z",
     "shell.execute_reply": "2023-07-15T18:29:22.775043Z"
    },
    "papermill": {
     "duration": 0.021627,
     "end_time": "2023-07-15T18:29:22.778366",
     "exception": false,
     "start_time": "2023-07-15T18:29:22.756739",
     "status": "completed"
    },
    "tags": []
   },
   "outputs": [],
   "source": [
    "from sklearn.linear_model import LogisticRegression\n",
    "lr = LogisticRegression()"
   ]
  },
  {
   "cell_type": "code",
   "execution_count": 30,
   "id": "d654dd84",
   "metadata": {
    "execution": {
     "iopub.execute_input": "2023-07-15T18:29:22.808449Z",
     "iopub.status.busy": "2023-07-15T18:29:22.807381Z",
     "iopub.status.idle": "2023-07-15T18:29:22.912996Z",
     "shell.execute_reply": "2023-07-15T18:29:22.911699Z"
    },
    "papermill": {
     "duration": 0.123432,
     "end_time": "2023-07-15T18:29:22.915791",
     "exception": false,
     "start_time": "2023-07-15T18:29:22.792359",
     "status": "completed"
    },
    "tags": []
   },
   "outputs": [],
   "source": [
    "lr.fit(x_train_cv,y_train)\n",
    "prediction_train = lr.predict(x_train_cv)"
   ]
  },
  {
   "cell_type": "code",
   "execution_count": 31,
   "id": "fb1e155f",
   "metadata": {
    "execution": {
     "iopub.execute_input": "2023-07-15T18:29:22.944717Z",
     "iopub.status.busy": "2023-07-15T18:29:22.944302Z",
     "iopub.status.idle": "2023-07-15T18:29:22.951656Z",
     "shell.execute_reply": "2023-07-15T18:29:22.950616Z"
    },
    "papermill": {
     "duration": 0.024573,
     "end_time": "2023-07-15T18:29:22.954001",
     "exception": false,
     "start_time": "2023-07-15T18:29:22.929428",
     "status": "completed"
    },
    "tags": []
   },
   "outputs": [
    {
     "name": "stdout",
     "output_type": "stream",
     "text": [
      "99.75816203143893\n"
     ]
    }
   ],
   "source": [
    "from sklearn.metrics import accuracy_score\n",
    "print(accuracy_score(y_train,prediction_train)*100)"
   ]
  },
  {
   "cell_type": "code",
   "execution_count": 32,
   "id": "6c28a176",
   "metadata": {
    "execution": {
     "iopub.execute_input": "2023-07-15T18:29:22.984200Z",
     "iopub.status.busy": "2023-07-15T18:29:22.983469Z",
     "iopub.status.idle": "2023-07-15T18:29:22.988194Z",
     "shell.execute_reply": "2023-07-15T18:29:22.987397Z"
    },
    "papermill": {
     "duration": 0.022085,
     "end_time": "2023-07-15T18:29:22.990218",
     "exception": false,
     "start_time": "2023-07-15T18:29:22.968133",
     "status": "completed"
    },
    "tags": []
   },
   "outputs": [],
   "source": [
    "prediction_test = lr.predict(x_test_cv)"
   ]
  },
  {
   "cell_type": "code",
   "execution_count": 33,
   "id": "4337857b",
   "metadata": {
    "execution": {
     "iopub.execute_input": "2023-07-15T18:29:23.019444Z",
     "iopub.status.busy": "2023-07-15T18:29:23.018706Z",
     "iopub.status.idle": "2023-07-15T18:29:23.025340Z",
     "shell.execute_reply": "2023-07-15T18:29:23.024210Z"
    },
    "papermill": {
     "duration": 0.024186,
     "end_time": "2023-07-15T18:29:23.027927",
     "exception": false,
     "start_time": "2023-07-15T18:29:23.003741",
     "status": "completed"
    },
    "tags": []
   },
   "outputs": [
    {
     "name": "stdout",
     "output_type": "stream",
     "text": [
      "97.58220502901354\n"
     ]
    }
   ],
   "source": [
    "print(accuracy_score(y_test,prediction_test)*100)"
   ]
  }
 ],
 "metadata": {
  "kernelspec": {
   "display_name": "Python 3",
   "language": "python",
   "name": "python3"
  },
  "language_info": {
   "codemirror_mode": {
    "name": "ipython",
    "version": 3
   },
   "file_extension": ".py",
   "mimetype": "text/x-python",
   "name": "python",
   "nbconvert_exporter": "python",
   "pygments_lexer": "ipython3",
   "version": "3.10.12"
  },
  "papermill": {
   "default_parameters": {},
   "duration": 17.048098,
   "end_time": "2023-07-15T18:29:24.064696",
   "environment_variables": {},
   "exception": null,
   "input_path": "__notebook__.ipynb",
   "output_path": "__notebook__.ipynb",
   "parameters": {},
   "start_time": "2023-07-15T18:29:07.016598",
   "version": "2.4.0"
  }
 },
 "nbformat": 4,
 "nbformat_minor": 5
}
